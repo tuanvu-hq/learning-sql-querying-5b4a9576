{
 "cells": [
  {
   "cell_type": "code",
   "execution_count": 8,
   "id": "24f6df43",
   "metadata": {
    "vscode": {
     "languageId": "rust"
    }
   },
   "outputs": [],
   "source": [
    ":dep dotenvy = \"0.15.7\"\n",
    ":dep uuid = { version = \"1.18.1\", features = [\"v4\"] }\n"
   ]
  },
  {
   "cell_type": "code",
   "execution_count": 9,
   "id": "13df3f38",
   "metadata": {
    "vscode": {
     "languageId": "rust"
    }
   },
   "outputs": [
    {
     "name": "stdout",
     "output_type": "stream",
     "text": [
      "0dba6bd9-6ad2-497f-8b00-b18079b2e9d8\n"
     ]
    }
   ],
   "source": [
    "use uuid::Uuid;\n",
    "\n",
    "dotenvy::dotenv()?;\n",
    "\n",
    "let id = Uuid::new_v4();\n",
    "println!(\"{id}\");"
   ]
  }
 ],
 "metadata": {
  "kernelspec": {
   "display_name": "Rust",
   "language": "rust",
   "name": "rust"
  },
  "language_info": {
   "codemirror_mode": "rust",
   "file_extension": ".rs",
   "mimetype": "text/rust",
   "name": "Rust",
   "pygment_lexer": "rust",
   "version": ""
  }
 },
 "nbformat": 4,
 "nbformat_minor": 5
}
